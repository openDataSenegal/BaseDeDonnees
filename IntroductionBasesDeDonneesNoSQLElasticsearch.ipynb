{
 "cells": [
  {
   "cell_type": "markdown",
   "id": "0b89d7e8",
   "metadata": {},
   "source": [
    "# <center> Panongbene Sawadogo </center> \n",
    "📩 **Exemple de projet développé** : [https://panongbene.com/](https://panongbene.com/)\n",
    "\n",
    "📩 **Contact** : [amet1900@gmail.com](amet1900@gmail.com)\n",
    "\n",
    "🌐**Linkedin** : [https://www.linkedin.com/in/panongbene-jean-mohamed-sawadogo-33234a168/](https://www.linkedin.com/in/panongbene-jean-mohamed-sawadogo-33234a168/)\n",
    "\n",
    "🗓️ **Dernière modification** : 26 mars 2025\n",
    "\n",
    "# <center> Introduction aux bases de données NoSQL : Application pratique avec Elasticsearch </center>"
   ]
  },
  {
   "cell_type": "markdown",
   "id": "6134ce9d-ca21-457a-8b3c-66b14d58a091",
   "metadata": {},
   "source": [
    "# Sommaire \n",
    "- ### **I. Introduction**  \n",
    "   - Définition des bases de données NoSQL  \n",
    "   - Comparaison NoSQL vs SQL  \n",
    "   - Pourquoi choisir une base NoSQL ?  \n",
    "\n",
    "- ### **II. Présentation d'Elasticsearch**  \n",
    "   - Qu'est-ce qu'Elasticsearch ?  \n",
    "   - Cas d'utilisation courants  \n",
    "   - Architecture et composants clés  \n",
    "\n",
    "- ### **III. Installation et prise en main**  \n",
    "   - Installation d'Elasticsearch  \n",
    "   - Configuration de base  \n",
    "   - Outils associés (Kibana, Logstash, Beats)  \n",
    "\n",
    "- ### **IV. Indexation et gestion des données**  \n",
    "   - Structure des documents JSON  \n",
    "   - Création et gestion des index  \n",
    "   - Opérations CRUD (Create, Read, Update, Delete)  \n",
    "\n",
    "- ### **V. Requêtage et recherche avancée**  \n",
    "   - Syntaxe des requêtes Elasticsearch  \n",
    "   - Filtrage et agrégations  \n",
    "   - Recherche plein texte et scoring  \n",
    "\n",
    "- ### **VI. Optimisation et bonnes pratiques**  \n",
    "   - Optimisation des performances  \n",
    "   - Gestion de la scalabilité  \n",
    "   - Sécurisation des données  \n",
    "\n",
    "- ### **VII. Cas pratique : Implémentation d'un moteur de recherche**  \n",
    "   - Conception du projet  \n",
    "   - Indexation des données  \n",
    "   - Exécution et analyse des requêtes  \n",
    "\n",
    "- ### **VIII. Conclusion et perspectives**  \n",
    "   - Avantages et limites d’Elasticsearch  \n",
    "   - Comparaison avec d’autres bases NoSQL  \n",
    "   - Applications futures et tendances  "
   ]
  },
  {
   "cell_type": "markdown",
   "id": "36f84ba6-f98f-42ca-a702-1670715092d8",
   "metadata": {},
   "source": [
    "### **I. Introduction**  \n",
    "   - **Définition des bases de données NoSQL**\n",
    "\n",
    "Les bases de données **NoSQL (Not Only SQL)** sont des bases de données **non relationnelles**, le plus souvent organisées sous forme de clé-valeur. Conçues pour stocker de grandes quantités de données,  souvent de manière **distribuée** et **flexible**.\n",
    "\n",
    "   - **Comparaison NoSQL vs SQL**\n",
    "\n",
    "Pour comparer les bases de données **NoSQL** et **SQL**, il est impératif de comprendre le **théorème de CAP**.  \n",
    "\n",
    "<center>\n",
    "<img src=\"./data/triangleCAP.png\" alt=\"triangleCAP\" style=\"width:700px;\"/>\n",
    "</center>\n",
    "\n",
    "Le **théorème de CAP** (Consistency, Availability, Partition Tolerance) est un principe fondamental en informatique distribuée. Il stipule qu'un système de base de données distribué ne peut garantir simultanément que **deux** des trois propriétés suivantes :  \n",
    "\n",
    "1. **Cohérence (Consistency)** : Toute reToutes les copies des données sont à jour et identiques à tout moment.  \n",
    "2. **Disponibilité (Availability)** : Chaque requête reçoit une réponse, même en cas de panne d’un nœud.  \n",
    "3. **Tolérance au partitionnement (Partition Tolerance)** : Le système continue de fonctionner malgré des défaillances réseau séparant des parties du système.  \n",
    "\n",
    "Les bases **SQL** et **NoSQL** se positionnent différemment par rapport à ce théorème :  \n",
    "\n",
    "- **Les bases SQL** privilégient généralement la **cohérence** et la **disponibilité** (CA), mais sont moins tolérantes aux partitions.  \n",
    "- **Les bases NoSQL** adoptent souvent un modèle **AP (disponibilité + tolérance au partitionnement)** ou **CP (cohérence + tolérance au partitionnement)**, en fonction des besoins.  \n",
    "\n",
    "Ce compromis explique pourquoi les bases **SQL sont adaptées aux systèmes transactionnels**, tandis que les bases **NoSQL conviennent mieux aux applications nécessitant une haute disponibilité et une grande scalabilité**.\n",
    "\n",
    "   - **Pourquoi et quand choisir une base NoSQL ?**\n",
    "\n",
    "En se basant sur le positionnement des bases de données NoSQL dans le triangle du CAP, on peut dire que l'utilisation des bases de données NoSQL est recommandée dans les cas suivants :\n",
    "\n",
    "✅ Données volumineuses et non structurées\n",
    "✅ Besoin de scalabilité horizontale\n",
    "✅ Performances élevées et faible latence\n",
    "✅ Applications modernes : IoT, Big Data, IA\n"
   ]
  },
  {
   "cell_type": "markdown",
   "id": "58321fa6-47fd-45db-8d4e-a35daebc99ff",
   "metadata": {},
   "source": [
    "### **II. Présentation d'Elasticsearch**  \n",
    "   - **Qu'est-ce qu'Elasticsearch ?**\n",
    "\n",
    "**Elasticsearch** peut être défini comme une base de données **NoSQL** intégrant un moteur de recherche basé sur Lucene. Il a été créé pour stocker, rechercher et analyser de grandes quantités de données (à l'ordre du téraoctet) en temps réel.\n",
    "\n",
    "   - **Cas d'utilisation courants**\n",
    "\n",
    "**Elasticsearch** est utilisé dans divers domaines grâce à sa capacité à rechercher et analyser rapidement de grandes quantités de données. Ci-dessous, on peut citer quelques cas d'utilisation courants.\n",
    "\n",
    "1. **Moteurs de recherche** : Utilisé pour indexer et rechercher des documents textuels.  \n",
    "\n",
    "2. **Analyse et surveillance des logs** : Utilisé pour collecte et analyse des journaux système (logs) pour le monitoring des applications et serveurs. Des outils comme la suite ELK Stack (Elasticsearch, Logstash, Kibana) sont couramment utilisés pour centraliser les logs et détecter les anomalies.  \n",
    "\n",
    "3. **Cybersécurité et détection des menaces** Utilisé pour analyse des journaux d'activité pour repérer des comportements suspects et détecter des attaques en temps réel grâce à des règles et des modèles de machine learning.  \n",
    "\n",
    "4. **Business Intelligence et analytique** : Utilisé pour le traitement et la visualisation des données en temps réel.  Suivi des métriques commerciales (ventes, trafic web, performances des campagnes marketing).  \n",
    " \n",
    "5. **Recherche géospatiale** : **Elasticsearch** Permet de stocker et d’analyser des données géographiques. Ainsi, il est utilisé dans des applications cartographiques et de navigation pour trouver des lieux ou optimiser des trajets.  \n",
    "\n",
    "Grâce à ses performances élevées et à sa flexibilité, **Elasticsearch** est devenu un outil incontournable pour toute application nécessitant une recherche rapide et efficace.\n",
    "\n",
    "   - **Architecture et composants clés**\n",
    "\n",
    "**Elasticsearch** repose sur une architecture distribuée et évolutive. C'est à dire qu'on peut le faire tourner sur plusieurs machines en meme temps (on parle de cluster et chaque machine est appélée noeud) de sorte que l'ensemble forme une seule base de données. \n",
    "\n",
    "#### **1. Cluster**  \n",
    "Un cluster est un ensemble de nœuds (serveurs) travaillant ensemble pour stocker et traiter des données. Chaque cluster est identifié par un nom unique et permet la répartition des tâches pour assurer une haute disponibilité et performance.  \n",
    "\n",
    "#### **2. Nœud (Node)**  \n",
    "Un nœud est une instance d'Elasticsearch en cours d'exécution. Chaque nœud peut avoir des rôles spécifiques :  \n",
    "- **Master Node** : Gère l’état global du cluster et la distribution des tâches.  \n",
    "- **Data Node** : Stocke les données et exécute les requêtes.  \n",
    "- **Ingest Node** : Pré-traite les documents avant leur indexation.  \n",
    "- **Coordinating Node** : Transmet les requêtes aux autres nœuds et agrège les résultats.  \n",
    "\n",
    "#### **3. Index**  \n",
    "Un index est une collection de documents similaires (ex : un index pour les logs, un autre pour les produits d’un site e-commerce). Chaque index est identifié par un nom unique et permet une organisation optimisée des données.  \n",
    "\n",
    "#### **4. Document**  \n",
    "Un document est une unité de base stockée dans un index. Il est représenté en format JSON et contient des champs structurés (ex : un enregistrement utilisateur avec nom, email, date de création, etc.).  \n",
    "\n",
    "#### **5. Shards et Réplicas**  \n",
    "- **Shards (Fragmentation des données)** : Un index est divisé en plusieurs morceaux appelés shards pour répartir la charge sur plusieurs nœuds.  \n",
    "- **Replicas (Copies de sauvegarde)** : Chaque shard peut avoir une ou plusieurs copies pour assurer la tolérance aux pannes.  \n",
    "\n",
    "#### **6. Mapping et Analyse**  \n",
    "- **Mapping** : Définit la structure et les types de données des champs d’un index.  \n",
    "- **Analyse et Tokenization** : Utilise des analyzers pour transformer et indexer les données textuelles efficacement.  \n",
    "\n",
    "#### **7. API RESTful**  \n",
    "Elasticsearch expose une API REST permettant d’effectuer des opérations de recherche, d’indexation et de gestion via des requêtes HTTP.  \n",
    "\n",
    "### **Conclusion**  \n",
    "Grâce à cette architecture distribuée et modulaire, Elasticsearch est un outil puissant pour le stockage et l’analyse rapide de grandes quantités de données.\n",
    " "
   ]
  },
  {
   "cell_type": "markdown",
   "id": "89baa569-7e36-4ee5-a579-37b3e8f59378",
   "metadata": {},
   "source": [
    "### **III. Installation et prise en main**  \n",
    "   - **Installation d'Elasticsearch**\n",
    "   - **Configuration de base**\n",
    "   -**Outils associés (Kibana, Logstash, Beats)**"
   ]
  },
  {
   "cell_type": "markdown",
   "id": "c825e04b-a68b-4acd-9de0-c4bf29c4cf55",
   "metadata": {},
   "source": [
    "### **IV. Indexation et gestion des données**  \n",
    "   - **Structure des documents JSON**\n",
    "   - **Création et gestion des index** \n",
    "   - **Opérations CRUD (Create, Read, Update, Delete)**"
   ]
  },
  {
   "cell_type": "markdown",
   "id": "a99d8b72-9d1d-4b67-9078-10d2279d653a",
   "metadata": {},
   "source": [
    "### **V. Requêtage et recherche avancée**  \n",
    "   - **Syntaxe des requêtes Elasticsearch**\n",
    "   - **Filtrage et agrégations**\n",
    "   - **Recherche plein texte et scoring**  "
   ]
  },
  {
   "cell_type": "markdown",
   "id": "a3e65fa6-3642-4a00-ab5a-ce99f32d351f",
   "metadata": {},
   "source": [
    "### **VI. Optimisation et bonnes pratiques**  \n",
    "   - **Optimisation des performances**\n",
    "   - **Gestion de la scalabilité**\n",
    "   - **Sécurisation des données**"
   ]
  },
  {
   "cell_type": "markdown",
   "id": "d3cb151c-62b9-41da-9a27-3d5fd44222c2",
   "metadata": {},
   "source": [
    "### **VII. Cas pratique : Implémentation d'un moteur de recherche**  \n",
    "   - **Conception du projet**\n",
    "   - **Indexation des données**\n",
    "   - **Exécution et analyse des requêtes** "
   ]
  },
  {
   "cell_type": "markdown",
   "id": "e0dcea1f-2c6a-42c8-ba2b-47a463c01d65",
   "metadata": {},
   "source": [
    "### **VIII. Conclusion et perspectives**  \n",
    "   - **Avantages et limites d’Elasticsearch**\n",
    "   - **Comparaison avec d’autres bases NoSQL**\n",
    "   - **Applications futures et tendances**"
   ]
  },
  {
   "cell_type": "code",
   "execution_count": null,
   "id": "10345cd5",
   "metadata": {},
   "outputs": [],
   "source": []
  },
  {
   "cell_type": "code",
   "execution_count": null,
   "id": "c733e593",
   "metadata": {},
   "outputs": [],
   "source": []
  },
  {
   "cell_type": "code",
   "execution_count": null,
   "id": "7d5bc760",
   "metadata": {},
   "outputs": [],
   "source": []
  },
  {
   "cell_type": "code",
   "execution_count": null,
   "id": "3d11cd94",
   "metadata": {},
   "outputs": [],
   "source": []
  },
  {
   "cell_type": "code",
   "execution_count": null,
   "id": "6016a202",
   "metadata": {},
   "outputs": [],
   "source": []
  },
  {
   "cell_type": "code",
   "execution_count": null,
   "id": "539c4355",
   "metadata": {},
   "outputs": [],
   "source": []
  },
  {
   "cell_type": "code",
   "execution_count": null,
   "id": "7c53809c",
   "metadata": {},
   "outputs": [],
   "source": []
  },
  {
   "cell_type": "code",
   "execution_count": null,
   "id": "4b1d58f8",
   "metadata": {},
   "outputs": [],
   "source": []
  },
  {
   "cell_type": "code",
   "execution_count": null,
   "id": "0bd51002",
   "metadata": {},
   "outputs": [],
   "source": []
  },
  {
   "cell_type": "code",
   "execution_count": null,
   "id": "e7f0e1db",
   "metadata": {},
   "outputs": [],
   "source": []
  }
 ],
 "metadata": {
  "kernelspec": {
   "display_name": "Python 3 (ipykernel)",
   "language": "python",
   "name": "python3"
  },
  "language_info": {
   "codemirror_mode": {
    "name": "ipython",
    "version": 3
   },
   "file_extension": ".py",
   "mimetype": "text/x-python",
   "name": "python",
   "nbconvert_exporter": "python",
   "pygments_lexer": "ipython3",
   "version": "3.10.12"
  }
 },
 "nbformat": 4,
 "nbformat_minor": 5
}
