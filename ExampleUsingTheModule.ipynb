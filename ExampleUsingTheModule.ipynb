{
 "cells": [
  {
   "cell_type": "markdown",
   "id": "0b89d7e8",
   "metadata": {},
   "source": [
    "# <center> Example of using the module </center> "
   ]
  },
  {
   "cell_type": "code",
   "execution_count": 1,
   "id": "9dc1ddee",
   "metadata": {},
   "outputs": [
    {
     "name": "stderr",
     "output_type": "stream",
     "text": [
      "/home/heavenize/.local/lib/python3.10/site-packages/matplotlib/projections/__init__.py:63: UserWarning: Unable to import Axes3D. This may be due to multiple versions of Matplotlib being installed (e.g. as a system package and as a pip package). As a result, the 3D projection is not available.\n",
      "  warnings.warn(\"Unable to import Axes3D. This may be due to multiple versions of \"\n"
     ]
    }
   ],
   "source": [
    "import math\n",
    "import pandas as pd\n",
    "import matplotlib.pyplot as plt\n",
    "from datetime import datetime, timedelta\n",
    "import heavenize_advisor as HEAVENIZE_ADVISOR\n",
    "from heavenize_advisor import prediction as HEAVENIZE_PREDICTION\n",
    "from heavenize_advisor import data_model as HEAVENIZE_ADVISOR_DATA_MODEL\n",
    "from heavenize_advisor import useful_class as HEAVENIZE_ADVISOR_USEFULL_CLASS\n",
    "from heavenize_advisor import data_preprocessing as HEAVENIZE_DATA_PREPROCESSING\n",
    "from heavenize_advisor import analysis_strategies as HEAVENIZE_ANALYSIS_STRATEGIES"
   ]
  },
  {
   "cell_type": "markdown",
   "id": "c6f50bb8",
   "metadata": {},
   "source": [
    "## Loading data"
   ]
  },
  {
   "cell_type": "code",
   "execution_count": 2,
   "id": "04471dc2",
   "metadata": {},
   "outputs": [],
   "source": [
    "path_training = \"training_data/sell/sell_training_data_AEA005901011_10_2_80_20\"\n",
    "traning_data_generate = HEAVENIZE_DATA_PREPROCESSING.TrainingDataGenerator.load_class(path_training)"
   ]
  },
  {
   "cell_type": "markdown",
   "id": "dcad3a07",
   "metadata": {},
   "source": [
    "## Prediction of best strategies using preprocessing models"
   ]
  },
  {
   "cell_type": "code",
   "execution_count": 4,
   "id": "d7d5a090-41ae-42e9-b8c8-53198e08166c",
   "metadata": {},
   "outputs": [],
   "source": [
    "from sktime.classification.interval_based import TimeSeriesForestClassifier\n",
    "ai_model = TimeSeriesForestClassifier(n_estimators=10, random_state=42)\n",
    "\n",
    "class_preprocessing_function = HEAVENIZE_PREDICTION.StatisticalDataPreprocessor()\n",
    "#preprocessing_function = class_preprocessing_function.preprocessing_function\n",
    "predict_best_strategies_using_preprocessing = HEAVENIZE_PREDICTION.PredictBestStrategiesUsingPreprocessing([traning_data_generate], ai_model, class_preprocessing_function)"
   ]
  },
  {
   "cell_type": "code",
   "execution_count": 5,
   "id": "9e8edfc9-fbdd-4eed-a284-3f0f467d613d",
   "metadata": {},
   "outputs": [
    {
     "name": "stderr",
     "output_type": "stream",
     "text": [
      "/home/heavenize/.local/lib/python3.10/site-packages/gluonts/json.py:102: UserWarning: Using `json`-module for json-handling. Consider installing one of `orjson`, `ujson` to speed up serialization and deserialization.\n",
      "  warnings.warn(\n"
     ]
    },
    {
     "data": {
      "text/plain": [
       "{'train_accuracy': 1.0, 'test_accuracy': 0.2454308093994778}"
      ]
     },
     "execution_count": 5,
     "metadata": {},
     "output_type": "execute_result"
    }
   ],
   "source": [
    "predict_best_strategies_using_preprocessing.train()"
   ]
  },
  {
   "cell_type": "code",
   "execution_count": 6,
   "id": "2978410d-c32f-4bcd-826f-0b6603356e0b",
   "metadata": {},
   "outputs": [
    {
     "data": {
      "text/plain": [
       "array([1015])"
      ]
     },
     "execution_count": 6,
     "metadata": {},
     "output_type": "execute_result"
    }
   ],
   "source": [
    "predict_best_strategies_using_preprocessing.predict(traning_data_generate, \"2025-01-13 00:00:00+04:00\")"
   ]
  },
  {
   "cell_type": "markdown",
   "id": "4a72936d-8ae5-4c1a-b5d8-dac29a02b75c",
   "metadata": {},
   "source": [
    "## Predicting best strategies using deep learning models"
   ]
  },
  {
   "cell_type": "code",
   "execution_count": null,
   "id": "59bb78a5-f8c2-440f-9817-bfc48d763ae9",
   "metadata": {},
   "outputs": [],
   "source": []
  },
  {
   "cell_type": "code",
   "execution_count": null,
   "id": "60bbf85c-46e2-4de3-b88c-27fad941e310",
   "metadata": {},
   "outputs": [],
   "source": []
  },
  {
   "cell_type": "code",
   "execution_count": null,
   "id": "4e4b5fbe",
   "metadata": {},
   "outputs": [],
   "source": []
  },
  {
   "cell_type": "code",
   "execution_count": null,
   "id": "28934609",
   "metadata": {},
   "outputs": [],
   "source": []
  },
  {
   "cell_type": "code",
   "execution_count": null,
   "id": "e46e2957",
   "metadata": {},
   "outputs": [],
   "source": []
  },
  {
   "cell_type": "code",
   "execution_count": null,
   "id": "aa0c23de",
   "metadata": {},
   "outputs": [],
   "source": []
  },
  {
   "cell_type": "code",
   "execution_count": null,
   "id": "4e7dd652",
   "metadata": {},
   "outputs": [],
   "source": []
  },
  {
   "cell_type": "code",
   "execution_count": null,
   "id": "b7038985",
   "metadata": {},
   "outputs": [],
   "source": []
  },
  {
   "cell_type": "code",
   "execution_count": null,
   "id": "10345cd5",
   "metadata": {},
   "outputs": [],
   "source": []
  },
  {
   "cell_type": "code",
   "execution_count": null,
   "id": "c733e593",
   "metadata": {},
   "outputs": [],
   "source": []
  },
  {
   "cell_type": "code",
   "execution_count": null,
   "id": "7d5bc760",
   "metadata": {},
   "outputs": [],
   "source": []
  },
  {
   "cell_type": "code",
   "execution_count": null,
   "id": "3d11cd94",
   "metadata": {},
   "outputs": [],
   "source": []
  },
  {
   "cell_type": "code",
   "execution_count": null,
   "id": "6016a202",
   "metadata": {},
   "outputs": [],
   "source": []
  },
  {
   "cell_type": "code",
   "execution_count": null,
   "id": "539c4355",
   "metadata": {},
   "outputs": [],
   "source": []
  },
  {
   "cell_type": "code",
   "execution_count": null,
   "id": "7c53809c",
   "metadata": {},
   "outputs": [],
   "source": []
  },
  {
   "cell_type": "code",
   "execution_count": null,
   "id": "4b1d58f8",
   "metadata": {},
   "outputs": [],
   "source": []
  },
  {
   "cell_type": "code",
   "execution_count": null,
   "id": "0bd51002",
   "metadata": {},
   "outputs": [],
   "source": []
  },
  {
   "cell_type": "code",
   "execution_count": null,
   "id": "e7f0e1db",
   "metadata": {},
   "outputs": [],
   "source": []
  }
 ],
 "metadata": {
  "kernelspec": {
   "display_name": "Python 3 (ipykernel)",
   "language": "python",
   "name": "python3"
  },
  "language_info": {
   "codemirror_mode": {
    "name": "ipython",
    "version": 3
   },
   "file_extension": ".py",
   "mimetype": "text/x-python",
   "name": "python",
   "nbconvert_exporter": "python",
   "pygments_lexer": "ipython3",
   "version": "3.10.12"
  }
 },
 "nbformat": 4,
 "nbformat_minor": 5
}
